{
 "cells": [
  {
   "cell_type": "markdown",
   "metadata": {},
   "source": [
    "# EDA on Manufacturing Dataset"
   ]
  },
  {
   "cell_type": "markdown",
   "metadata": {},
   "source": [
    "This notebook will outline an exploratory data analysis performed for a dataset assessing failures during a manufacturing process....."
   ]
  },
  {
   "cell_type": "markdown",
   "metadata": {},
   "source": [
    "### Necessary Imports"
   ]
  },
  {
   "cell_type": "code",
   "execution_count": null,
   "metadata": {},
   "outputs": [],
   "source": [
    "import pandas as pd\n",
    "from db_utils import RDSDatabaseConnector\n",
    "from eda_final_failure3_df import DataTransform\n",
    "CHECK IF IMPORTS RELATE TO WHAT NEEDS TO BE IMPORTED INTO EDA_FINAL_FAILURE?"
   ]
  },
  {
   "cell_type": "markdown",
   "metadata": {},
   "source": [
    "### Loading in the Dataset"
   ]
  },
  {
   "cell_type": "markdown",
   "metadata": {},
   "source": [
    "The failure csv was previously extracted from the AWS RDS and saved locally. This now gets loaded into a pandas dataframe to allow for the use of EDA techniques."
   ]
  },
  {
   "cell_type": "markdown",
   "metadata": {},
   "source": [
    "### Selecting relevant columns and amending the datatype"
   ]
  },
  {
   "cell_type": "markdown",
   "metadata": {},
   "source": [
    "The imported data within the csv shows the different types of failure for the manufacturing process represented by 0's and 1's for non-failure and failure respectively. These were renamed from the original numbers to the corresponding name to clarify their meaning and these columns were also altered within the code to be of the categorical type. This enabled separate comparisons of the mean conditions causing failures vs non-failures and avoided distortions of the correlation charts that assessed multiple continuous variables. \n",
    "\n",
    "The original labels of H; M and L for the quality of the material in the table was also switched to High; Medium and Low respectively to enhance the clarity. Columns that weren't useful for the analysis of the failures such as the 'UDI' and 'Product ID' were removed. All alterations to the dataset had the inplace=True addition to the code ensuring that the changes were changing the underlying dataset throughout the full run of the script"
   ]
  },
  {
   "cell_type": "code",
   "execution_count": null,
   "metadata": {},
   "outputs": [],
   "source": []
  },
  {
   "cell_type": "markdown",
   "metadata": {},
   "source": [
    "### Nulls"
   ]
  },
  {
   "cell_type": "markdown",
   "metadata": {},
   "source": [
    "The nulls of cells were imputed with the median for the temperature columns where the data within the column was randomly scattered within a small range of values. \n",
    "\n",
    "Within the Tool Wear column where the omissions were few, but the variance of data within the column was not random and could not be easily inferred through statistical means, a decision was made to remove the rows with these nulls."
   ]
  },
  {
   "cell_type": "code",
   "execution_count": null,
   "metadata": {},
   "outputs": [],
   "source": []
  },
  {
   "cell_type": "markdown",
   "metadata": {},
   "source": [
    "### Skew"
   ]
  },
  {
   "cell_type": "markdown",
   "metadata": {},
   "source": [
    "Altering the skew through methods such as box-cox transformations or log transformations can, with highly skewed data, often enhance the plot visuals and improve the understanding of trends. The size and direction of the skew was therefore important to assess so that decisions on the potential utility of box-cox or log transformations could be made. \n",
    "\n",
    "The skew for different variables were assessed through skewness histograms and qq plots... These enabled the skew within the different variables to be visually determined and inform whether a transformation would be helpful."
   ]
  },
  {
   "cell_type": "code",
   "execution_count": null,
   "metadata": {},
   "outputs": [],
   "source": []
  },
  {
   "cell_type": "markdown",
   "metadata": {},
   "source": [
    "### Outliers"
   ]
  },
  {
   "cell_type": "markdown",
   "metadata": {},
   "source": [
    "Outliers were handled according to the z score of the data point. A threshold of 3 standard deviations from the mean was selected for the data to be included, so that erroneous and very unrepresentative data doesn't distort the findings."
   ]
  },
  {
   "cell_type": "code",
   "execution_count": null,
   "metadata": {},
   "outputs": [],
   "source": []
  },
  {
   "cell_type": "markdown",
   "metadata": {},
   "source": [
    "### Failure Analysis"
   ]
  },
  {
   "cell_type": "markdown",
   "metadata": {},
   "source": [
    "The frequency of the different failure causes were plotted in a bar chart to determine the proportion of each type that occurred. To assess the typical conditions that caused each failure type, box plots were created for each failure condition against different variables. These were compared against the conditions that didn't culminate in that type of failure to diagnose potential triggers for the breakdown. Safe operating conditions were inferred by the ranges within each variable that were found to have resulted in largely non-failures."
   ]
  }
 ],
 "metadata": {
  "kernelspec": {
   "display_name": "base",
   "language": "python",
   "name": "python3"
  },
  "language_info": {
   "codemirror_mode": {
    "name": "ipython",
    "version": 3
   },
   "file_extension": ".py",
   "mimetype": "text/x-python",
   "name": "python",
   "nbconvert_exporter": "python",
   "pygments_lexer": "ipython3",
   "version": "3.12.3"
  }
 },
 "nbformat": 4,
 "nbformat_minor": 2
}
